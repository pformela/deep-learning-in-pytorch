{
  "nbformat": 4,
  "nbformat_minor": 0,
  "metadata": {
    "colab": {
      "provenance": [],
      "authorship_tag": "ABX9TyNOv9XKBZiAqB3dN8dhbPXJ"
    },
    "kernelspec": {
      "name": "python3",
      "display_name": "Python 3"
    },
    "language_info": {
      "name": "python"
    }
  },
  "cells": [
    {
      "cell_type": "code",
      "execution_count": 1,
      "metadata": {
        "id": "Z2vF3h8UhNkS"
      },
      "outputs": [],
      "source": [
        "import numpy as np\n",
        "import matplotlib.pyplot as plt"
      ]
    },
    {
      "cell_type": "code",
      "source": [
        "# probability of an event happening\n",
        "p = 0.25\n",
        "q = 1 - p\n",
        "\n",
        "# not the correct formula\n",
        "H = -(p * np.log(p))\n",
        "\n",
        "print(f'Wrong entropy: {H}')"
      ],
      "metadata": {
        "colab": {
          "base_uri": "https://localhost:8080/"
        },
        "id": "bN2AzDDVhRvK",
        "outputId": "8b48a82c-a921-43e8-a5fd-d7e750d77c1a"
      },
      "execution_count": 2,
      "outputs": [
        {
          "output_type": "stream",
          "name": "stdout",
          "text": [
            "Wrong entropy: 0.34657359027997264\n"
          ]
        }
      ]
    },
    {
      "cell_type": "code",
      "source": [
        "# Correct entropy\n",
        "x = [0.25, 0.75]\n",
        "\n",
        "H = 0\n",
        "for p in x: H -= p * np.log(p)\n",
        "\n",
        "print(f'Correct entropy: {H}')"
      ],
      "metadata": {
        "colab": {
          "base_uri": "https://localhost:8080/"
        },
        "id": "ALePW54YheeM",
        "outputId": "f9da4832-8730-4c81-8dbd-9039461d7dc7"
      },
      "execution_count": 3,
      "outputs": [
        {
          "output_type": "stream",
          "name": "stdout",
          "text": [
            "Correct entropy: 0.5623351446188083\n"
          ]
        }
      ]
    },
    {
      "cell_type": "code",
      "source": [
        "# Binary cross-entropy\n",
        "p = 0.3\n",
        "\n",
        "H = -(p * np.log(p)) + (1 - p) * np.log(1 - p)\n",
        "print(f'Correct entropy: {H}')"
      ],
      "metadata": {
        "colab": {
          "base_uri": "https://localhost:8080/"
        },
        "id": "Kz8gW8pth4KK",
        "outputId": "2f06b0e2-02be-43a3-df0a-3d6cfba88083"
      },
      "execution_count": 4,
      "outputs": [
        {
          "output_type": "stream",
          "name": "stdout",
          "text": [
            "Correct entropy: 0.11151938054066812\n"
          ]
        }
      ]
    },
    {
      "cell_type": "markdown",
      "source": [
        "## Cross entropy"
      ],
      "metadata": {
        "id": "yirIPxUXikUu"
      }
    },
    {
      "cell_type": "code",
      "source": [
        "p = [1, 0]\n",
        "q = [0.25, 0.75]\n",
        "\n",
        "H = 0\n",
        "for i in range(len(p)): H -= p[i] * np.log(q[i])\n",
        "\n",
        "print(f'Cross entropy {H}')"
      ],
      "metadata": {
        "colab": {
          "base_uri": "https://localhost:8080/"
        },
        "id": "aM84XfQ2iory",
        "outputId": "1cda5d35-abe1-4404-b797-37c9604dbd4f"
      },
      "execution_count": 10,
      "outputs": [
        {
          "output_type": "stream",
          "name": "stdout",
          "text": [
            "Cross entropy 1.3862943611198906\n"
          ]
        }
      ]
    },
    {
      "cell_type": "code",
      "source": [
        "# using pytorch\n",
        "import torch\n",
        "import torch.nn.functional as F\n",
        "\n",
        "q_tensor = torch.Tensor(q)\n",
        "p_tensor = torch.Tensor(p)\n",
        "\n",
        "F.binary_cross_entropy(q_tensor, p_tensor)"
      ],
      "metadata": {
        "colab": {
          "base_uri": "https://localhost:8080/"
        },
        "id": "cOCPJdJCiz_s",
        "outputId": "e28c8e08-a855-4a1f-9ea7-3d3781cd89f5"
      },
      "execution_count": 8,
      "outputs": [
        {
          "output_type": "execute_result",
          "data": {
            "text/plain": [
              "tensor(1.3863)"
            ]
          },
          "metadata": {},
          "execution_count": 8
        }
      ]
    },
    {
      "cell_type": "code",
      "source": [],
      "metadata": {
        "id": "Ytx9A0ZbjH6z"
      },
      "execution_count": null,
      "outputs": []
    }
  ]
}