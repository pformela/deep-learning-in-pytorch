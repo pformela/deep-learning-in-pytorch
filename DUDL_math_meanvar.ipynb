{
  "nbformat": 4,
  "nbformat_minor": 0,
  "metadata": {
    "colab": {
      "provenance": [],
      "authorship_tag": "ABX9TyMaLY/CzI1bl1FFVOxtHwFq"
    },
    "kernelspec": {
      "name": "python3",
      "display_name": "Python 3"
    },
    "language_info": {
      "name": "python"
    }
  },
  "cells": [
    {
      "cell_type": "code",
      "execution_count": 1,
      "metadata": {
        "id": "hOQWA6dUnW6p"
      },
      "outputs": [],
      "source": [
        "import numpy as np"
      ]
    },
    {
      "cell_type": "code",
      "source": [
        "X = [1, 2, 4, 6, 5, 4, 0]\n",
        "n = len(X)\n",
        "\n",
        "# Compute the mean\n",
        "mean1 = np.mean(X)\n",
        "mean2 = np.sum(X) / n\n",
        "\n",
        "mean1, mean2"
      ],
      "metadata": {
        "colab": {
          "base_uri": "https://localhost:8080/"
        },
        "id": "VwQc80DrnZZZ",
        "outputId": "85a74969-2ca0-475d-e0cb-ddcb7535072d"
      },
      "execution_count": 2,
      "outputs": [
        {
          "output_type": "execute_result",
          "data": {
            "text/plain": [
              "(3.142857142857143, 3.142857142857143)"
            ]
          },
          "metadata": {},
          "execution_count": 2
        }
      ]
    },
    {
      "cell_type": "code",
      "source": [
        "# Variance\n",
        "var1 = np.var(X)\n",
        "var2 = (1 / (n)) * np.sum((X - mean1) ** 2) # biased\n",
        "var2 = (1 / (n - 1)) * np.sum((X - mean1) ** 2) # unbiased\n",
        "\n",
        "var1, var2"
      ],
      "metadata": {
        "colab": {
          "base_uri": "https://localhost:8080/"
        },
        "id": "YI7AI0kBnnY8",
        "outputId": "6cdc906c-f24d-4076-b0bb-fd61fcd8d70f"
      },
      "execution_count": 6,
      "outputs": [
        {
          "output_type": "execute_result",
          "data": {
            "text/plain": [
              "(4.122448979591836, 4.809523809523809)"
            ]
          },
          "metadata": {},
          "execution_count": 6
        }
      ]
    },
    {
      "cell_type": "code",
      "source": [
        "# Unbiased variance\n",
        "np.var(X, ddof=1)"
      ],
      "metadata": {
        "colab": {
          "base_uri": "https://localhost:8080/"
        },
        "id": "jyq24z_FnwMt",
        "outputId": "2550c507-fb4d-431b-923c-56b6b8f53165"
      },
      "execution_count": 7,
      "outputs": [
        {
          "output_type": "execute_result",
          "data": {
            "text/plain": [
              "4.809523809523809"
            ]
          },
          "metadata": {},
          "execution_count": 7
        }
      ]
    },
    {
      "cell_type": "code",
      "source": [],
      "metadata": {
        "id": "Veb24sOdn_dF"
      },
      "execution_count": null,
      "outputs": []
    }
  ]
}